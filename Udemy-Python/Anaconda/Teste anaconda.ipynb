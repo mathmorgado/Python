{
 "cells": [
  {
   "cell_type": "markdown",
   "id": "bbf4a073",
   "metadata": {},
   "source": [
    "# Variavel"
   ]
  },
  {
   "cell_type": "code",
   "execution_count": null,
   "id": "2bde35c6",
   "metadata": {},
   "outputs": [],
   "source": [
    "a = 12"
   ]
  },
  {
   "cell_type": "code",
   "execution_count": 3,
   "id": "eeb2181c",
   "metadata": {},
   "outputs": [],
   "source": [
    "b = 'Variavel de texto'"
   ]
  },
  {
   "cell_type": "code",
   "execution_count": 4,
   "id": "8f5f74a0",
   "metadata": {},
   "outputs": [
    {
     "name": "stdout",
     "output_type": "stream",
     "text": [
      "6\n"
     ]
    }
   ],
   "source": [
    "print(a + 4)"
   ]
  },
  {
   "cell_type": "code",
   "execution_count": 6,
   "id": "d8403471",
   "metadata": {},
   "outputs": [
    {
     "name": "stdout",
     "output_type": "stream",
     "text": [
      "Variavel de texto python\n"
     ]
    }
   ],
   "source": [
    "print(b, 'python')"
   ]
  },
  {
   "cell_type": "markdown",
   "id": "801a7dbc",
   "metadata": {},
   "source": [
    "# Operadores"
   ]
  },
  {
   "cell_type": "code",
   "execution_count": 19,
   "id": "d3f6930a",
   "metadata": {},
   "outputs": [
    {
     "name": "stdout",
     "output_type": "stream",
     "text": [
      "2 e 1\n"
     ]
    }
   ],
   "source": [
    "soma = 1 + 1\n",
    "subtração = 2 - 1\n",
    "print(soma, 'e', subtração)"
   ]
  },
  {
   "cell_type": "code",
   "execution_count": 21,
   "id": "63e7d043",
   "metadata": {},
   "outputs": [
    {
     "name": "stdout",
     "output_type": "stream",
     "text": [
      "4 e 2.0\n"
     ]
    }
   ],
   "source": [
    "multiplicação = 2 * 2\n",
    "divisão = 6 / 3\n",
    "print(multiplicação, 'e', divisão)"
   ]
  },
  {
   "cell_type": "code",
   "execution_count": 25,
   "id": "ebf76ddb",
   "metadata": {},
   "outputs": [
    {
     "name": "stdout",
     "output_type": "stream",
     "text": [
      "8 e 2\n"
     ]
    }
   ],
   "source": [
    "elevação = 2** 3\n",
    "divisão_inteira = 5 // 2\n",
    "print(elevação, 'e', divisão_inteira)"
   ]
  },
  {
   "cell_type": "markdown",
   "id": "4f76b065",
   "metadata": {},
   "source": [
    "# Ordem de precendência:"
   ]
  },
  {
   "cell_type": "markdown",
   "id": "ddf1d458",
   "metadata": {},
   "source": [
    "parentese ()"
   ]
  },
  {
   "cell_type": "markdown",
   "id": "005e3d46",
   "metadata": {},
   "source": [
    "elevação **"
   ]
  },
  {
   "cell_type": "markdown",
   "id": "8e100999",
   "metadata": {},
   "source": [
    "mult/div * e /"
   ]
  },
  {
   "cell_type": "markdown",
   "id": "37fb233a",
   "metadata": {},
   "source": [
    "som/sub + e -"
   ]
  },
  {
   "cell_type": "markdown",
   "id": "5ab4d9ab",
   "metadata": {},
   "source": [
    "##  Ex:"
   ]
  },
  {
   "cell_type": "code",
   "execution_count": 30,
   "id": "1fa5b32f",
   "metadata": {},
   "outputs": [
    {
     "name": "stdout",
     "output_type": "stream",
     "text": [
      "6.5\n"
     ]
    }
   ],
   "source": [
    "a = (2**2 + (1 + 2) * 3)/2\n",
    "print(a)"
   ]
  }
 ],
 "metadata": {
  "kernelspec": {
   "display_name": "Python 3 (ipykernel)",
   "language": "python",
   "name": "python3"
  },
  "language_info": {
   "codemirror_mode": {
    "name": "ipython",
    "version": 3
   },
   "file_extension": ".py",
   "mimetype": "text/x-python",
   "name": "python",
   "nbconvert_exporter": "python",
   "pygments_lexer": "ipython3",
   "version": "3.9.7"
  }
 },
 "nbformat": 4,
 "nbformat_minor": 5
}
