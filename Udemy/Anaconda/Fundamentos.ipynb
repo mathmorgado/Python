{
 "cells": [
  {
   "cell_type": "code",
   "execution_count": 4,
   "id": "930b9469",
   "metadata": {},
   "outputs": [
    {
     "name": "stdout",
     "output_type": "stream",
     "text": [
      "Primeiro programa\n"
     ]
    },
    {
     "data": {
      "text/plain": [
       "3"
      ]
     },
     "execution_count": 4,
     "metadata": {},
     "output_type": "execute_result"
    }
   ],
   "source": [
    "print('Primeiro programa')\n",
    "1 \\\n",
    " + 2"
   ]
  },
  {
   "cell_type": "code",
   "execution_count": 6,
   "id": "4a0fa3a1",
   "metadata": {},
   "outputs": [
    {
     "data": {
      "text/plain": [
       "8"
      ]
     },
     "execution_count": 6,
     "metadata": {},
     "output_type": "execute_result"
    }
   ],
   "source": [
    "1 + 1 + 1\n",
    "4 + 4"
   ]
  },
  {
   "cell_type": "code",
   "execution_count": 7,
   "id": "011dc643",
   "metadata": {
    "scrolled": true
   },
   "outputs": [
    {
     "name": "stdout",
     "output_type": "stream",
     "text": [
      "3\n",
      "8\n"
     ]
    }
   ],
   "source": [
    "print(1 + 1 + 1)\n",
    "print(4 + 4)"
   ]
  },
  {
   "cell_type": "markdown",
   "id": "b9c31382",
   "metadata": {},
   "source": [
    "# Tipos Básicos "
   ]
  },
  {
   "cell_type": "code",
   "execution_count": 13,
   "id": "e639513c",
   "metadata": {},
   "outputs": [
    {
     "name": "stdout",
     "output_type": "stream",
     "text": [
      "True\n",
      "False\n",
      "1 3.1\n",
      "Aspas simples\n",
      "Aspas cheia\n",
      "Contatenar é muito muito fácil\n",
      "[1, 2, 3]\n",
      "{'nome': 'Pedro', 'idade': 22}\n",
      "None\n"
     ]
    }
   ],
   "source": [
    "print(True)#bool\n",
    "print(False)#bool\n",
    "print(1, 2 + 1.1)#int/float\n",
    "print('Aspas simples')#str\n",
    "print(\"Aspas cheia\")#str\n",
    "print('Contatenar é ' + 2 * 'muito ' + 'fácil')#contatenando str + int\n",
    "# print(3 + '3') -> ambíguidade não funciona!\n",
    "print([1, 2, 3])#lista: Estrutura de índice a partir do 0, armazena dados.\n",
    "print({'nome': 'Pedro', 'idade': 22})#dicionário: Estrutura 'Chave : valor'\n",
    "print(None)#ausência de valor "
   ]
  },
  {
   "cell_type": "markdown",
   "id": "58b4be56",
   "metadata": {},
   "source": [
    "# Variáveis"
   ]
  },
  {
   "cell_type": "code",
   "execution_count": 15,
   "id": "c3a6bf3a",
   "metadata": {},
   "outputs": [
    {
     "name": "stdout",
     "output_type": "stream",
     "text": [
      "15.2\n",
      "Agora -a- é uma stringe\n"
     ]
    }
   ],
   "source": [
    "a = 10\n",
    "b = 5.2\n",
    "\n",
    "print(a + b)\n",
    "\n",
    "a = 'Agora -a- é uma string'\n",
    "print(a)\n",
    "\n",
    "# print(a + b) não rola!"
   ]
  },
  {
   "cell_type": "markdown",
   "id": "39f2b79e",
   "metadata": {},
   "source": [
    "# Comentários"
   ]
  },
  {
   "cell_type": "code",
   "execution_count": 19,
   "id": "94912fc1",
   "metadata": {},
   "outputs": [
    {
     "name": "stdout",
     "output_type": "stream",
     "text": [
      "894.25\n",
      "Fim de verdade\n"
     ]
    }
   ],
   "source": [
    "# Minhas variáveis\n",
    "salario = 3350.45\n",
    "despesas = 2456.2\n",
    "\n",
    "\"\"\"\n",
    "A ideia é calcular\n",
    "o quanto vai sobrar \n",
    "no final do mês! \n",
    "\"\"\"\n",
    "print(salario - despesas)\n",
    "\n",
    "#print('fim')\n",
    "print('Fim de verdade')"
   ]
  },
  {
   "cell_type": "markdown",
   "id": "3b5cf44b",
   "metadata": {},
   "source": [
    "# Operadores Aritméticos"
   ]
  },
  {
   "cell_type": "code",
   "execution_count": 23,
   "id": "e937eade",
   "metadata": {},
   "outputs": [
    {
     "name": "stdout",
     "output_type": "stream",
     "text": [
      "5\n",
      "-3\n",
      "10.6\n",
      "3.1333333333333333\n",
      "3.0\n",
      "256\n",
      "1\n",
      "0\n"
     ]
    }
   ],
   "source": [
    "print(2 + 3)\n",
    "print(4 - 7)\n",
    "print(2 * 5.3)\n",
    "print(9.4 / 3)#toda divisão em Python é do tipo float\n",
    "print(9.4 // 3)#Quando ambos os valores são inteiros o tipo também será inteiro\n",
    "print(2 ** 8)\n",
    "print(10 % 3)\n",
    "\n",
    "a = 12\n",
    "b = a\n",
    "print(a - b)"
   ]
  },
  {
   "cell_type": "markdown",
   "id": "53b18600",
   "metadata": {},
   "source": [
    "# Desafio"
   ]
  },
  {
   "cell_type": "code",
   "execution_count": 29,
   "id": "9276f8d4",
   "metadata": {},
   "outputs": [
    {
     "name": "stdout",
     "output_type": "stream",
     "text": [
      "As despesas representam 71.2% do salário\n"
     ]
    }
   ],
   "source": [
    "# Minhas variáveis\n",
    "salario = 3450.45\n",
    "despesas = 2456.2\n",
    "\n",
    "porcentual = (despesas* 100)/salario\n",
    "print('As despesas representam {:.1f}% do salário'.format(porcentual))"
   ]
  },
  {
   "cell_type": "markdown",
   "id": "e445ce82",
   "metadata": {},
   "source": [
    "# Operadores Relacionais"
   ]
  },
  {
   "cell_type": "code",
   "execution_count": 35,
   "id": "78a824c1",
   "metadata": {},
   "outputs": [
    {
     "name": "stdout",
     "output_type": "stream",
     "text": [
      "False\n",
      "True\n",
      "True\n",
      "False\n",
      "True\n",
      "True\n",
      "False\n"
     ]
    }
   ],
   "source": [
    "print(3 > 4)\n",
    "print(4 >= 3)\n",
    "print(1 < 2)\n",
    "print(3 <= 1)\n",
    "print(3 != 2) #!= é 'diferente'\n",
    "print(3 == 3) #== é 'igual a'\n",
    "print(3 == '3')"
   ]
  },
  {
   "cell_type": "markdown",
   "id": "8c2d7f32",
   "metadata": {},
   "source": [
    "# Operadores de Atribuição"
   ]
  },
  {
   "cell_type": "code",
   "execution_count": 50,
   "id": "e29960e7",
   "metadata": {},
   "outputs": [
    {
     "name": "stdout",
     "output_type": "stream",
     "text": [
      "3\n",
      "10\n",
      "13\n",
      "10\n",
      "20\n",
      "10.0\n",
      "2.0\n",
      "256.0\n",
      "1.0\n"
     ]
    }
   ],
   "source": [
    "a = 3\n",
    "print(a)\n",
    "\n",
    "a = a + 7\n",
    "print (a)\n",
    "\n",
    "a += 3 # a = a + 5\n",
    "print(a)\n",
    "\n",
    "a -= 3\n",
    "print(a)\n",
    "\n",
    "a *= 2\n",
    "print(a)\n",
    "\n",
    "a /= 2\n",
    "print(a)\n",
    "\n",
    "a %= 4\n",
    "print(a)\n",
    "\n",
    "a **= 8\n",
    "print(a)\n",
    "\n",
    "a //= 255\n",
    "print(a)"
   ]
  },
  {
   "cell_type": "markdown",
   "id": "83c85409",
   "metadata": {},
   "source": [
    "# Operadores Lógicos"
   ]
  },
  {
   "cell_type": "code",
   "execution_count": 65,
   "id": "1d4ee7fa",
   "metadata": {},
   "outputs": [
    {
     "name": "stdout",
     "output_type": "stream",
     "text": [
      "False\n",
      "False\n",
      "True\n",
      "True\n",
      "False\n"
     ]
    }
   ],
   "source": [
    "\"\"\"\n",
    "Os operadores lógicos realizam operações\n",
    "sobre um ou dois valores booleano sendo\n",
    "eles os \"and, or, xor, not, nand etc \"\n",
    "\"\"\"\n",
    "#Tabela verdade do AND\n",
    "\n",
    "print(True and False)\n",
    "print(False and True)\n",
    "print(True and True)\n",
    "\n",
    "print(True and True and True and True)\n",
    "print(True and True and True and False)"
   ]
  },
  {
   "cell_type": "code",
   "execution_count": 68,
   "id": "d3b2a676",
   "metadata": {},
   "outputs": [
    {
     "name": "stdout",
     "output_type": "stream",
     "text": [
      "True\n",
      "False\n",
      "True\n",
      "False\n",
      "True\n"
     ]
    }
   ],
   "source": [
    "#Tabela verdade do OR\n",
    "\n",
    "print(True or True)\n",
    "print(False or False)\n",
    "print(True or False)\n",
    "\n",
    "print(False or False or False or False)\n",
    "print(False or False or False or True)"
   ]
  },
  {
   "cell_type": "code",
   "execution_count": 74,
   "id": "7c457d76",
   "metadata": {},
   "outputs": [
    {
     "data": {
      "text/plain": [
       "True"
      ]
     },
     "execution_count": 74,
     "metadata": {},
     "output_type": "execute_result"
    }
   ],
   "source": [
    "#Tabela verdade do XOR\n",
    "\n",
    "True != True\n",
    "True != False\n",
    "False != False\n",
    "False != True"
   ]
  },
  {
   "cell_type": "code",
   "execution_count": null,
   "id": "abe12bf6",
   "metadata": {},
   "outputs": [],
   "source": [
    "#Operação de negação (unário)\n",
    "\n",
    "not True\n",
    "not False\n",
    "\n",
    "not 0\n",
    "not 1"
   ]
  },
  {
   "cell_type": "code",
   "execution_count": 73,
   "id": "5ea16e1c",
   "metadata": {},
   "outputs": [
    {
     "data": {
      "text/plain": [
       "1"
      ]
     },
     "execution_count": 73,
     "metadata": {},
     "output_type": "execute_result"
    }
   ],
   "source": [
    "#Cuidado! Operador Lógico != de Operador Bit-a-Bit\n",
    "\n",
    "True & False\n",
    "False | True\n",
    "True ^ False\n",
    "\n",
    "\"\"\"\n",
    "No Bit-a-Bit se calcula com Bits (1 e 0). \n",
    "O número 3 no exemplo vai receber 1-1, já o\n",
    "2, 1-0. A operação é feita somando o número de cima\n",
    "Ex: 3 &(e) 2 == 1 + 1 = 1, 1 + 0 = 0 -> 10 que é = 2\n",
    "\"\"\"\n",
    "\n",
    "# AND Bit-a-Bit\n",
    "# 3 = 11\n",
    "# 2 = 10\n",
    "# _ = 10 ('_' é \"resultado\")\n",
    "3 & 2\n",
    "\n",
    "#OR Bit-a-Bit\n",
    "#  3 = 11\n",
    "# 2 = 10\n",
    "# _ = 11\n",
    "3 | 2\n",
    "\n",
    "#XOR Bit-a-Bit\n",
    "#3 = 11\n",
    "# 2 = 10\n",
    "# _ = 01\n",
    "3 ^ 2\n",
    "\n",
    "#Um pouco de realidade\n",
    "\n",
    "saldo = 1000\n",
    "salario = 4000\n",
    "despesa = 2967\n",
    "\n",
    "\"\"\"\n",
    "A meta é o saldo ser positivo e o dinheiro que \n",
    "sobrou ser maior do que 20%(0.2) dentro do salário.\n",
    "\"\"\"\n",
    "\n",
    "saldo_positivo = saldo > 0 \n",
    "despesa_controlada = salario - despesas >= 0.2 * salario\n",
    "\n",
    "meta = saldo_positivo and despesas_controladas\n",
    "\n",
    "meta"
   ]
  },
  {
   "cell_type": "code",
   "execution_count": null,
   "id": "128ea341",
   "metadata": {},
   "outputs": [],
   "source": [
    "\"\"\"\n",
    "Sistema True/False funcionam a partir de resultados\n",
    "de Verdadeiro/Falso ou de sim e não. Podendo ser usado\n",
    "para uma série de condições de 'and' (E) e 'or' (OU). \n",
    "Ex: Eu vou ao shopping quando o dia está \n",
    "ensolarado E tenho dinheiro na carteira.\n",
    "O dia ta ensolarado? Falso. \n",
    "Tenho dinheiro? Verdadeiro.\n",
    "Resultado: Falso (não).\n",
    "Logo, não irei ao shopping.\n",
    "\"\"\"\n",
    "# exemplo básico\n",
    "print('Ensolarado' == 'Chuvoso' and 'Tenho din din' == 'Tenho din din')\n",
    "print('Ensolarado' == 'Ensolarado' and 'Tenho din din' == 'Tenho din din')\n"
   ]
  },
  {
   "cell_type": "markdown",
   "id": "72380116",
   "metadata": {},
   "source": [
    "# Desafio"
   ]
  },
  {
   "cell_type": "code",
   "execution_count": 10,
   "id": "14b0d242",
   "metadata": {},
   "outputs": [
    {
     "name": "stdout",
     "output_type": "stream",
     "text": [
      "Comprar uma TV 50? False\n",
      "Comprar uma TV 32? True\n",
      "Tomar sorvete? True\n",
      "Ter saúde? False\n"
     ]
    }
   ],
   "source": [
    "trabalho_terca = True\n",
    "trabalho_quinta = False\n",
    "\n",
    "\"\"\"\n",
    "-Confirmando os 2: TV 50' + sorvete.\n",
    "-Confirmando 1: TV 32' + sorvete.\n",
    "-Nenhum confirmando: Fica em casa.\n",
    "\"\"\"\n",
    "\n",
    "tv_50 = trabalho_terca and trabalho_quinta \n",
    "print('Comprar uma TV 50?', tv_50)\n",
    "\n",
    "tv_32 = trabalho_terca != trabalho_quinta\n",
    "print('Comprar uma TV 32?', tv_32)\n",
    "\n",
    "sorvete = trabalho_terca or trabalho_quinta\n",
    "print('Tomar sorvete?', sorvete)\n",
    "\n",
    "saude = not sorvete \n",
    "print('Ter saúde?', saude)"
   ]
  },
  {
   "cell_type": "markdown",
   "id": "cb6d8e4e",
   "metadata": {},
   "source": [
    "# Operadores Unários"
   ]
  },
  {
   "cell_type": "code",
   "execution_count": 7,
   "id": "575f2e32",
   "metadata": {},
   "outputs": [
    {
     "name": "stdout",
     "output_type": "stream",
     "text": [
      "3\n",
      "4\n",
      "2\n",
      "2\n",
      "2\n"
     ]
    },
    {
     "data": {
      "text/plain": [
       "True"
      ]
     },
     "execution_count": 7,
     "metadata": {},
     "output_type": "execute_result"
    }
   ],
   "source": [
    "a = 3\n",
    "print(a)\n",
    "# a++\n",
    "a += 1\n",
    "print(a)\n",
    "# a--\n",
    "a -= 2\n",
    "print(a)\n",
    "++a \n",
    "print(a)\n",
    "#não altera nada\n",
    "--a\n",
    "print(a)\n",
    "#não altera nada\n",
    "-a\n",
    "\n",
    "not 0 #verdadeiro\n",
    "not 1 #falso\n",
    "not -2 #qlqr número diferente de 0 é falso\n",
    "not False #verdadeiro"
   ]
  },
  {
   "cell_type": "markdown",
   "id": "ae85e6b1",
   "metadata": {},
   "source": [
    "# Operadores ternários"
   ]
  },
  {
   "cell_type": "code",
   "execution_count": 19,
   "id": "bfbbf12e",
   "metadata": {},
   "outputs": [
    {
     "name": "stdout",
     "output_type": "stream",
     "text": [
      "Hoje estou com as roupas molhadas.\n",
      "Hoje estou com as roupas molhadas.\n"
     ]
    }
   ],
   "source": [
    "esta_chuvendo = True\n",
    "\n",
    "print('Hoje estou com as roupas ' + ('secas.', 'molhadas.')[esta_chuvendo]) \n",
    "print('Hoje estou com as roupas ' + ('molhadas.' if esta_chuvendo else 'secas'))\n"
   ]
  },
  {
   "cell_type": "markdown",
   "id": "07967455",
   "metadata": {},
   "source": [
    "# Mais operadores"
   ]
  },
  {
   "cell_type": "code",
   "execution_count": 29,
   "id": "2e827ed4",
   "metadata": {},
   "outputs": [
    {
     "name": "stdout",
     "output_type": "stream",
     "text": [
      "Operadores de Membro\n",
      "True\n",
      "False\n",
      "Operador de identidade numéricos\n",
      "True\n",
      "True\n",
      "False\n",
      "Operador de identidade não numéricos\n",
      "False\n",
      "False\n"
     ]
    },
    {
     "data": {
      "text/plain": [
       "True"
      ]
     },
     "execution_count": 29,
     "metadata": {},
     "output_type": "execute_result"
    }
   ],
   "source": [
    "print('Operadores de Membro')\n",
    "lista = [1, 2, 3, 'Ana', 'Carla']\n",
    "print(2 in lista)\n",
    "print('Ana' not in lista)\n",
    "\n",
    "print('Operador de identidade numéricos')\n",
    "\n",
    "x = 3\n",
    "y = x\n",
    "z = 3\n",
    "\n",
    "print(x is z)\n",
    "print(y is z)\n",
    "print(x is not z)\n",
    "\n",
    "print('Operador de identidade não numéricos')\n",
    "\n",
    "'''\n",
    "Como x, y e z são valores numéricos, são iguais.\n",
    "Mas isso não se aplica às listas, pois mesmo que recebam valores iguais,\n",
    "não serão iguais, já que serão duas listas diferentes. \n",
    "'''\n",
    "lista_a = [1, 2, 3]\n",
    "lista_b = [1, 2, 3]\n",
    "lista_c = lista_a\n",
    "\n",
    "print(lista_a is lista_b) #False, valores iguais, mas listas diferentes\n",
    "print(lista_b is lista_c) #False, valores iguais, mas listas diferentes\n",
    "lista_c is lista_a #True, pois c recebe a 'lista_a' e não seus valores"
   ]
  },
  {
   "cell_type": "markdown",
   "id": "b34781fb",
   "metadata": {},
   "source": [
    "# Builtins"
   ]
  },
  {
   "cell_type": "code",
   "execution_count": 35,
   "id": "3861db45",
   "metadata": {},
   "outputs": [
    {
     "name": "stdout",
     "output_type": "stream",
     "text": [
      "3.3333333333333335\n",
      "Help on built-in function dir in module builtins:\n",
      "\n",
      "dir(...)\n",
      "    dir([object]) -> list of strings\n",
      "    \n",
      "    If called without an argument, return the names in the current scope.\n",
      "    Else, return an alphabetized list of names comprising (some of) the attributes\n",
      "    of the given object, and of attributes reachable from it.\n",
      "    If the object supplies a method named __dir__, it will be used; otherwise\n",
      "    the default dir() logic is used and returns:\n",
      "      for a module object: the module's attributes.\n",
      "      for a class object:  its attributes, and recursively the attributes\n",
      "        of its bases.\n",
      "      for any other object: its attributes, its class's attributes, and\n",
      "        recursively the attributes of its class's base classes.\n",
      "\n"
     ]
    }
   ],
   "source": [
    "# type()\n",
    "type(1)\n",
    "__builtins__.type('Fala galera!')\n",
    "__builtins__.print(10 / 3)\n",
    "\n",
    "__builtins__.help(__builtins__.dir)"
   ]
  },
  {
   "cell_type": "markdown",
   "id": "b722fe1a",
   "metadata": {},
   "source": [
    "# Conversão de Tipos"
   ]
  },
  {
   "cell_type": "code",
   "execution_count": 6,
   "id": "a7dff415",
   "metadata": {},
   "outputs": [
    {
     "name": "stdout",
     "output_type": "stream",
     "text": [
      "<class 'int'>\n",
      "<class 'str'>\n",
      "5\n",
      "23\n"
     ]
    }
   ],
   "source": [
    "2 + 3\n",
    "'2' + '3'\n",
    "# 2 + '3'\n",
    "\n",
    "a = 2\n",
    "b = '3'\n",
    "\n",
    "print(type(a))\n",
    "print(type(b))\n",
    "\n",
    "print(a + int(b))\n",
    "print(str(a) + b)"
   ]
  },
  {
   "cell_type": "markdown",
   "id": "21a6e31b",
   "metadata": {},
   "source": [
    "# Coerção Automática"
   ]
  },
  {
   "cell_type": "code",
   "execution_count": 14,
   "id": "f44b31d1",
   "metadata": {},
   "outputs": [
    {
     "name": "stdout",
     "output_type": "stream",
     "text": [
      "<class 'float'>\n",
      "<class 'int'>\n",
      "<class 'float'>\n",
      "3\n",
      "<class 'int'>\n",
      "2\n"
     ]
    },
    {
     "data": {
      "text/plain": [
       "int"
      ]
     },
     "execution_count": 14,
     "metadata": {},
     "output_type": "execute_result"
    }
   ],
   "source": [
    "10 / 2\n",
    "print(type(10 / 2))\n",
    "10 // 3\n",
    "print(type(10 // 3))\n",
    "10 // 3.3\n",
    "print(type(10 // 3.3))\n",
    "print(2 + True)\n",
    "print(type(2 + True))\n",
    "print(2 + False)"
   ]
  },
  {
   "cell_type": "markdown",
   "id": "58a5c10b",
   "metadata": {},
   "source": [
    "# Tipos Numéricos"
   ]
  },
  {
   "cell_type": "code",
   "execution_count": 28,
   "id": "f81475d9",
   "metadata": {},
   "outputs": [
    {
     "name": "stdout",
     "output_type": "stream",
     "text": [
      "<class 'int'>\n",
      "<class 'float'>\n",
      "<class 'float'>\n",
      "False\n",
      "True\n",
      "5\n",
      "2\n"
     ]
    }
   ],
   "source": [
    "dir(int)\n",
    "dir(float)\n",
    "\n",
    "a = 5\n",
    "b = 2.5\n",
    "a / b\n",
    "a + b\n",
    "a * b\n",
    "\n",
    "print(type(a))\n",
    "print(type(b))\n",
    "print(type(a - b))\n",
    "\n",
    "print(b.is_integer())\n",
    "#is integer -> 'É um inteiro?' Não do tipo 'int', mas sem casas decimais\n",
    "print(5.0.is_integer()) #É do tipo float mas não tem casa decimaL. Inteiro\n",
    "\n",
    "print(int.__add__(2, 3)) \n",
    "#2 + 3\n",
    "print((-2).__abs__())\n",
    "#abs(-2)"
   ]
  },
  {
   "cell_type": "code",
   "execution_count": 39,
   "id": "fdf4ebad",
   "metadata": {},
   "outputs": [
    {
     "data": {
      "text/plain": [
       "3.3000000000000003"
      ]
     },
     "execution_count": 39,
     "metadata": {},
     "output_type": "execute_result"
    }
   ],
   "source": [
    "1.1 + 2.2 \n",
    "'''\n",
    "Como podemos ver, há uma imprecisão no resultado\n",
    "da conta. Isso se dá ao fato de que, para a melhora\n",
    "do desempenho, usa-se uma especificação de conta menos\n",
    "precisa, porém mais ágil. Caso queira contas mais precisas\n",
    "basta importar a biblioteca 'decimal'.\n",
    "'''"
   ]
  },
  {
   "cell_type": "code",
   "execution_count": 71,
   "id": "d9153ef5",
   "metadata": {},
   "outputs": [
    {
     "name": "stdout",
     "output_type": "stream",
     "text": [
      "3.3\n",
      "3.333\n"
     ]
    },
    {
     "data": {
      "text/plain": [
       "Decimal('7')"
      ]
     },
     "execution_count": 71,
     "metadata": {},
     "output_type": "execute_result"
    }
   ],
   "source": [
    "from decimal import Decimal, getcontext\n",
    "\n",
    "getcontext().prec = 2\n",
    "\n",
    "print(Decimal(1.1) + Decimal(2.2))\n",
    "\n",
    "getcontext().prec = 4\n",
    "print(Decimal(10) / Decimal(3))\n",
    "Decimal.max(Decimal(1), Decimal(7)) #Maior decimal, no caso Decimal(7)\n",
    "\n"
   ]
  },
  {
   "cell_type": "markdown",
   "id": "6fa13ded",
   "metadata": {},
   "source": [
    "# Tipos String"
   ]
  },
  {
   "cell_type": "code",
   "execution_count": 85,
   "id": "8fa89c6a",
   "metadata": {},
   "outputs": [
    {
     "name": "stdout",
     "output_type": "stream",
     "text": [
      "S P\n",
      "Textos com múltiplas\n",
      "\t... linhas\n"
     ]
    }
   ],
   "source": [
    "dir(str)\n",
    "nome = 'Saulo Pedro'\n",
    "nome\n",
    "print(nome [0], nome[6])\n",
    "# nome [0] = 'p', não aceita atribuição\n",
    "\n",
    "#'Marca d'água'. \n",
    "\n",
    "\"\"\"\n",
    "Dá erro de sintexe pela falto do '\\' para \n",
    "especificar q o ' faz parte do texto.\n",
    "\"\"\"\n",
    "\n",
    "\"Dias d'água\" == 'Dias d\\'água' #Repare que usei \"\" em um e '' no outro.\n",
    "\n",
    "\"Teste \\\"oia\\\" funciona\"\n",
    "\n",
    "texto = 'Texto entre apostrófos pode ter \"aspas\"'\n",
    "texto\n",
    "\n",
    "doc = \"\"\" Textp com múltiplas\n",
    ". . . linhas\"\"\"\n",
    "doc\n",
    "print('Textos com múltiplas\\n\\t... linhas')"
   ]
  },
  {
   "cell_type": "code",
   "execution_count": 94,
   "id": "73139f54",
   "metadata": {},
   "outputs": [
    {
     "name": "stdout",
     "output_type": "stream",
     "text": [
      "A\n",
      "u\n",
      "u\n",
      "Paula\n",
      "Paula\n",
      "Ana\n",
      "a P\n",
      "aluaP anA\n",
      "1234567890\n",
      "13579\n",
      "24680\n",
      "0987654321\n"
     ]
    }
   ],
   "source": [
    "nome = 'Ana Paula' #funciona com índice, começando do zero. Então vai do 0 á 8\n",
    "print(nome[0])\n",
    "print(nome[6])\n",
    "print(nome[-3]) # de tras para frente\n",
    "print(nome[4:])\n",
    "print(nome[-5:])\n",
    "print(nome[:3])\n",
    "print(nome[2:5])\n",
    "\n",
    "print(nome[::-1])\n",
    "\n",
    "numero = '1234567890'\n",
    "print(numero[::])\n",
    "print(numero[::2])\n",
    "print(numero[1::2])\n",
    "\n",
    "print(numero[::-1])"
   ]
  },
  {
   "cell_type": "markdown",
   "id": "fd4ea80d",
   "metadata": {},
   "source": [
    "##### Operadores mebros!"
   ]
  },
  {
   "cell_type": "code",
   "execution_count": 106,
   "id": "104ee92d",
   "metadata": {},
   "outputs": [
    {
     "name": "stdout",
     "output_type": "stream",
     "text": [
      "Python é uma linguagem excelente!\n",
      "False\n",
      "True\n",
      "PYTHON É UMA LINGUAGEM EXCELENTE!\n",
      "['PYTHON', 'É', 'UMA', 'LINGUAGEM', 'EXCELENTE!']\n",
      "['PYTHON É UM', ' LINGU', 'GEM EXCELENTE!']\n"
     ]
    }
   ],
   "source": [
    "frase = 'Python é uma linguagem excelente!'\n",
    "print(frase)\n",
    "print('py' in frase) #cuidado com maiúsculo e minúsculo!\n",
    "\n",
    "'rt' not in frase\n",
    "\n",
    "len(frase)\n",
    "\n",
    "print('py' in frase.lower())\n",
    "\n",
    "frase = frase.upper()\n",
    "print(frase)\n",
    "\n",
    "print(frase.split())\n",
    "print(frase.split('A'))"
   ]
  },
  {
   "cell_type": "code",
   "execution_count": 114,
   "id": "3ef2de11",
   "metadata": {},
   "outputs": [
    {
     "data": {
      "text/plain": [
       "True"
      ]
     },
     "execution_count": 114,
     "metadata": {},
     "output_type": "execute_result"
    }
   ],
   "source": [
    "a = '123'\n",
    "b = ' de oliveira 4'\n",
    "a + b\n",
    "a.__add__(b)\n",
    "str.__add__(a, b)\n",
    "\n",
    "dir(str)\n",
    "len(a)\n",
    "a.__len__()\n",
    "'1' in a\n",
    "a.__contains__('1')\n",
    "\n"
   ]
  },
  {
   "cell_type": "markdown",
   "id": "92509b60",
   "metadata": {},
   "source": [
    "# Listas"
   ]
  },
  {
   "cell_type": "code",
   "execution_count": 144,
   "id": "4c3e9727",
   "metadata": {},
   "outputs": [
    {
     "name": "stdout",
     "output_type": "stream",
     "text": [
      "[]\n",
      "0\n",
      "[1, 5]\n",
      "2\n",
      "[1, 5, 'Ana', 'Bia']\n",
      "[1, 'Bia']\n",
      "['Bia', 1]\n"
     ]
    }
   ],
   "source": [
    "lista = []\n",
    "print(lista)\n",
    "\n",
    "type(lista)\n",
    "dir(lista)\n",
    "#help(lista)\n",
    "\n",
    "print(len(lista))\n",
    "\n",
    "lista.append(1)\n",
    "lista.append(5)\n",
    "print(lista)\n",
    "print(len(lista))\n",
    "\n",
    "nova_lista = [1, 5, 'Ana', 'Bia'] #Evite usar itens de diferentes tipos!\n",
    "print(nova_lista)\n",
    "\n",
    "nova_lista.remove(5)\n",
    "nova_lista.remove('Ana')\n",
    "print(nova_lista)\n",
    "\n",
    "nova_lista.reverse()\n",
    "print(nova_lista)"
   ]
  },
  {
   "cell_type": "code",
   "execution_count": 132,
   "id": "456acb2c",
   "metadata": {},
   "outputs": [
    {
     "name": "stdout",
     "output_type": "stream",
     "text": [
      "1\n",
      "3.1415\n"
     ]
    }
   ],
   "source": [
    "lista = [1, 5, 'Rebeca', 'Guilherme', 3.1415]\n",
    "lista.index('Guilherme')\n",
    "print(lista[0])\n",
    "'Pedro' not in lista\n",
    "print(lista[-1]) #-1 pega o último iten da lista"
   ]
  },
  {
   "cell_type": "code",
   "execution_count": 140,
   "id": "ec773368",
   "metadata": {},
   "outputs": [
    {
     "name": "stdout",
     "output_type": "stream",
     "text": [
      "['Lia', 'Rui']\n",
      "['Lia', 'Rui', 'Paulo']\n",
      "['Lia', 'Rui', 'Paulo', 'Dani']\n",
      "['Ana', 'Lia', 'Rui', 'Paulo']\n",
      "['Ana', 'Lia', 'Rui', 'Paulo', 'Dani']\n",
      "['Ana', 'Rui', 'Dani']\n",
      "['Dani', 'Paulo', 'Rui', 'Lia', 'Ana']\n",
      "['Ana', 'Lia', 'Paulo', 'Dani']\n",
      "['Ana']\n"
     ]
    }
   ],
   "source": [
    "lista = ['Ana', 'Lia', 'Rui', 'Paulo', 'Dani']\n",
    "\n",
    "print(lista[1:3])\n",
    "print(lista[1:-1])\n",
    "print(lista[1:])\n",
    "print(lista[:-1])\n",
    "print(lista[:])\n",
    "print(lista[::2])\n",
    "print(lista[::-1])\n",
    "\n",
    "del lista[2]\n",
    "\n",
    "print(lista)\n",
    "\n",
    "del lista[1:]\n",
    "\n",
    "print(lista)"
   ]
  },
  {
   "cell_type": "code",
   "execution_count": null,
   "id": "c1f7e598",
   "metadata": {},
   "outputs": [],
   "source": [
    "\"\"\"\n",
    "A principal diferença entre uma Tupla e a lista\n",
    "\"\"\""
   ]
  },
  {
   "cell_type": "markdown",
   "id": "8fd6e8af",
   "metadata": {},
   "source": [
    "# Tupla"
   ]
  },
  {
   "cell_type": "code",
   "execution_count": 154,
   "id": "f320b4e1",
   "metadata": {},
   "outputs": [
    {
     "name": "stdout",
     "output_type": "stream",
     "text": [
      "<class 'tuple'>\n",
      "<class 'str'>\n",
      "<class 'tuple'>\n",
      "verde\n",
      "branco\n",
      "('amarelo', 'azul', 'branco')\n"
     ]
    },
    {
     "data": {
      "text/plain": [
       "5"
      ]
     },
     "execution_count": 154,
     "metadata": {},
     "output_type": "execute_result"
    }
   ],
   "source": [
    "tupla = tuple()\n",
    "tupla = ()\n",
    "\n",
    "print(type(tupla))\n",
    "dir(tupla)\n",
    "#help(tupla)\n",
    "\n",
    "tupla = ('um')\n",
    "print(type(tupla))\n",
    "\n",
    "#cuidado!\n",
    "\n",
    "tupla= ('um',) \n",
    "print(type(tupla))\n",
    "\n",
    "tupla[0]\n",
    "\n",
    "cores = ('verde', 'amarelo', 'azul', 'branco')\n",
    "\n",
    "print(cores[0])\n",
    "print(cores[-1])\n",
    "print(cores[1:])\n",
    "\n",
    "cores.index('azul')\n",
    "\n",
    "cores_2 = ('azul', 'verde', 'amarelo', 'azul', 'azul',)\n",
    "cores_2.count('azul')\n",
    "len(cores_2)"
   ]
  },
  {
   "cell_type": "markdown",
   "id": "0e529214",
   "metadata": {},
   "source": [
    "#### Principais diferenças entre  Lista e Tupla"
   ]
  },
  {
   "cell_type": "code",
   "execution_count": 180,
   "id": "5b2bf230",
   "metadata": {},
   "outputs": [
    {
     "name": "stdout",
     "output_type": "stream",
     "text": [
      "<class 'list'>\n",
      "<class 'tuple'>\n",
      "1\n",
      "[5]\n",
      "2\n",
      "<class 'int'>\n"
     ]
    }
   ],
   "source": [
    "Lista = [] # A lista usa colchete!\n",
    "print(type(Lista))\n",
    "\n",
    "Tupla = tuple() \n",
    "Tupla = () # A tupla usa parenteses!\n",
    "print(type(Tupla))\n",
    "\n",
    "Lista.append(5) #A lista pode alterar!\n",
    "print(len(Lista))\n",
    "print(Lista)\n",
    "#Tupla.append(5) A tupla não pode alterar!\n",
    "\n",
    "Tupla = (2)\n",
    "print(Tupla)\n",
    "print(type(Tupla)) #Pra ser tupla é preciso colocar ',' dps do 1º item!"
   ]
  },
  {
   "cell_type": "markdown",
   "id": "159e26a1",
   "metadata": {},
   "source": [
    "# Dicionários"
   ]
  },
  {
   "cell_type": "code",
   "execution_count": 219,
   "id": "c2356f2b",
   "metadata": {},
   "outputs": [
    {
     "name": "stdout",
     "output_type": "stream",
     "text": [
      "{'nome': 'Prof(a). Ana', 'idade': 38, 'cursos': ['Inglês', 'Português']}\n",
      "['Inglês', 'Português']\n",
      "Português\n",
      "dict_keys(['nome', 'idade', 'cursos'])\n",
      "dict_values(['Prof(a). Ana', 38, ['Inglês', 'Português']])\n",
      "['Inglês', 'Português']\n",
      "{'codinome': ['Surden', 'Mohrnt'], 'senha': [3322, 2244]}\n",
      "['Surden', 'Mohrnt']\n",
      "Mohrnt\n",
      "dict_keys(['codinome', 'senha'])\n",
      "dict_values([['Surden', 'Mohrnt'], [3322, 2244]])\n",
      "['Surden', 'Mohrnt']\n"
     ]
    }
   ],
   "source": [
    "dicio = {'nome': 'Prof(a). Ana', 'idade': 38, 'cursos': ['Inglês', 'Português'] }\n",
    "print(dicio)\n",
    "\n",
    "type(dicio)\n",
    "dir(dicio)\n",
    "len(dicio)\n",
    "\n",
    "#Cunsultando dados!\n",
    "\n",
    "print(dicio['cursos'])\n",
    "print(dicio['cursos'][1])\n",
    "\n",
    "print(dicio.keys())\n",
    "print(dicio.values())\n",
    "\n",
    "print(dicio.get('cursos'))\n",
    "\n",
    "#####################################\n",
    "\n",
    "i = 'senha'\n",
    "c = 'codinome'\n",
    "\n",
    "pessoa = {c: ['Surden', 'Mohrnt'], i : [3322, 2244]}\n",
    "print(pessoa)\n",
    "\n",
    "type(pessoa)\n",
    "dir(pessoa)\n",
    "len(pessoa)\n",
    "\n",
    "#Cunsultando dados!\n",
    "\n",
    "print(pessoa[c])\n",
    "print(pessoa[c][1])\n",
    "\n",
    "print(pessoa.keys())\n",
    "print(pessoa.values())\n",
    "\n",
    "print(pessoa.get(c))\n"
   ]
  },
  {
   "cell_type": "code",
   "execution_count": 226,
   "id": "5e35c50f",
   "metadata": {},
   "outputs": [
    {
     "name": "stdout",
     "output_type": "stream",
     "text": [
      "{'Nome': 'Prof. Alberto', 'Idade': 38, 'Cursos': ['React', 'Python']}\n",
      "{'Nome': 'Prof. Alberto', 'Idade': 44, 'Cursos': ['React', 'Python', 'Angular']}\n",
      "{'Idade': 44, 'Cursos': ['React', 'Python', 'Angular']}\n",
      "{'Idade': 44, 'Cursos': ['React', 'Python', 'Angular'], 'Nome': 'Prof. Alberto', 'Sexo': ['Masculino', 'Feminino']}\n",
      "{'Idade': 44, 'Nome': 'Prof. Alberto', 'Sexo': ['Masculino', 'Feminino']}\n",
      "{}\n"
     ]
    }
   ],
   "source": [
    "n = 'Nome'\n",
    "i = 'Idade'\n",
    "c = 'Cursos'\n",
    "\n",
    "identidade = {n: 'Prof. Alberto', i: 38, c: ['React', 'Python']} \n",
    "print(identidade)\n",
    "\n",
    "#Alterar dados!\n",
    "\n",
    "identidade[i] = 44\n",
    "identidade[c].append('Angular')\n",
    "print(identidade)\n",
    "\n",
    "identidade.pop(n) #print o 'valor' e o retira do dicionário\n",
    "print(identidade)\n",
    "\n",
    "identidade.update({'Nome': 'Prof. Alberto', 'Sexo': ['Masculino', 'Feminino']})\n",
    "print(identidade)\n",
    "\n",
    "del identidade[c]\n",
    "print(identidade)\n",
    "\n",
    "identidade.clear()\n",
    "print(identidade)"
   ]
  },
  {
   "cell_type": "markdown",
   "id": "929b4b38",
   "metadata": {},
   "source": [
    "# Conjunto"
   ]
  },
  {
   "cell_type": "code",
   "execution_count": null,
   "id": "d870e009",
   "metadata": {},
   "outputs": [],
   "source": [
    "\"\"\"\n",
    "O conjunto funcina com {}, assim como o dicionário, porém ele trabalha\n",
    "apenas com valores, semelhante à lista. O conjunto, diferente da lista, não\n",
    "é indexado, ou seja, não tem índice. Além de que não aceita repetiçôes e \n",
    "quando se adiciona mais um valor, ele não é ordenado!\n",
    "\"\"\""
   ]
  },
  {
   "cell_type": "code",
   "execution_count": 248,
   "id": "eaf8a883",
   "metadata": {},
   "outputs": [
    {
     "name": "stdout",
     "output_type": "stream",
     "text": [
      "{1, 2, 3}\n",
      "{'3', 'c', 'a', 'd', 'o'}\n",
      "True True\n",
      "{1, 2, 3}\n",
      "{2}\n",
      "{1, 2, 3}\n",
      "{1}\n"
     ]
    },
    {
     "data": {
      "text/plain": [
       "{1, 3, 4}"
      ]
     },
     "execution_count": 248,
     "metadata": {},
     "output_type": "execute_result"
    }
   ],
   "source": [
    "a = {1, 2, 3}\n",
    "print(a)\n",
    "\n",
    "type(a)\n",
    "\n",
    "#a[0] não tem índice!\n",
    "\n",
    "a = set('codddd3a')\n",
    "print(a)\n",
    "\n",
    "#Não é ordenado e nem aceita repetição!\n",
    "\n",
    "print('3' in a, 4 not in a)\n",
    "\n",
    "{1, 2, 3} == {3, 2, 1, 3} #True, a ordem não importa e as duplicatas tmb n!\n",
    "\n",
    "# operadores\n",
    "\n",
    "c1 = {1, 2}\n",
    "c2 = {2, 3}\n",
    "\n",
    "print(c1.union(c2))\n",
    "print(c1.intersection(c2))\n",
    "\n",
    "c1.update(c2)\n",
    "print(c1)\n",
    "\n",
    "c1 = {1, 2}\n",
    "\n",
    "c2 <= c1 # \"c2 é subconjunto de c1?\"\n",
    "\n",
    "c1 >= c2 # \"c1 é subconjunto de c2?\"\n",
    "\n",
    "print({1, 2, 3} - {2, 3}) #A diferença dos conjuntos\n",
    "\n",
    "c1 = {1, 2, 3, 4}\n",
    "\n",
    "c1 - c2\n",
    "\n",
    "c1 -= {2}\n",
    "c1"
   ]
  },
  {
   "cell_type": "markdown",
   "id": "bf0eeeea",
   "metadata": {},
   "source": [
    "# Interpolação"
   ]
  },
  {
   "cell_type": "code",
   "execution_count": 264,
   "id": "fd4c0581",
   "metadata": {},
   "outputs": [
    {
     "name": "stdout",
     "output_type": "stream",
     "text": [
      "Nome: Ana. Idade: 30 True False\n",
      "Nome: Ana. Idade: 30.96\n",
      "Nome: Ana. Idade 31, 257\n",
      "Nome: Ana idade: 30.964\n"
     ]
    }
   ],
   "source": [
    "from string import Template\n",
    "\n",
    "nome, idade = 'Ana', 30\n",
    "\n",
    "\"\"\"\n",
    "%s -> indica String.\n",
    "%d -> indica Inteiro\n",
    "%f -> indica tipo float\n",
    "%r -> indica tipo booleano\n",
    "\"\"\"\n",
    "\n",
    "print('Nome: %s. Idade: %d %r %r' % (nome, idade, True, False))#antiga\n",
    "\n",
    "idade = 30.964\n",
    "\n",
    "print('Nome: {0}. Idade: {1:.2f}'.format(nome, idade))# python 3.6\n",
    "\n",
    "print(f'Nome: {nome}. Idade {idade:.0f}, {256**1 + 1}')# mais nova\n",
    "\n",
    "s = Template('Nome: $nome idade: $idade')\n",
    "print(s.substitute(nome=nome, idade=idade))"
   ]
  },
  {
   "cell_type": "code",
   "execution_count": null,
   "id": "50e7a64b",
   "metadata": {},
   "outputs": [],
   "source": []
  }
 ],
 "metadata": {
  "kernelspec": {
   "display_name": "Python 3 (ipykernel)",
   "language": "python",
   "name": "python3"
  },
  "language_info": {
   "codemirror_mode": {
    "name": "ipython",
    "version": 3
   },
   "file_extension": ".py",
   "mimetype": "text/x-python",
   "name": "python",
   "nbconvert_exporter": "python",
   "pygments_lexer": "ipython3",
   "version": "3.9.7"
  }
 },
 "nbformat": 4,
 "nbformat_minor": 5
}
