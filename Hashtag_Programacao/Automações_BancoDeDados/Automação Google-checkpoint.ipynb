{
 "cells": [
  {
   "cell_type": "code",
   "execution_count": 3,
   "id": "4bdb1db2",
   "metadata": {},
   "outputs": [],
   "source": [
    "import pyautogui as pa\n",
    "import pyperclip as pc\n",
    "import time\n",
    "\n",
    "pa.PAUSE = 0.75\n",
    "\n",
    "time.sleep(10)\n",
    "\n",
    "# Entrando no Google\n",
    "pa.press('win')\n",
    "pa.write('google')\n",
    "pa.press('enter')\n",
    "\n",
    "time.sleep(3)\n",
    "\n",
    "pa.click(x=794, y=586) # selecionando usuario\n",
    "\n",
    "time.sleep(3)\n",
    "\n",
    "# Abrindo WhatsApp\n",
    "pa.click(x=717, y=499)\n",
    "\n",
    "time.sleep(1)\n",
    "\n",
    "# Abrindo Youtube\n",
    "pa.hotkey('ctrl', 't')\n",
    "\n",
    "time.sleep(2)\n",
    "\n",
    "pa.click(x=857, y=503)\n"
   ]
  },
  {
   "cell_type": "code",
   "execution_count": 6,
   "id": "e8dd811a",
   "metadata": {
    "scrolled": false
   },
   "outputs": [
    {
     "data": {
      "text/plain": [
       "Point(x=857, y=503)"
      ]
     },
     "execution_count": 6,
     "metadata": {},
     "output_type": "execute_result"
    }
   ],
   "source": [
    "import time\n",
    "time.sleep(5)\n",
    "pa.position()"
   ]
  },
  {
   "cell_type": "code",
   "execution_count": null,
   "id": "c58d5059",
   "metadata": {},
   "outputs": [],
   "source": []
  }
 ],
 "metadata": {
  "kernelspec": {
   "display_name": "Python 3 (ipykernel)",
   "language": "python",
   "name": "python3"
  },
  "language_info": {
   "codemirror_mode": {
    "name": "ipython",
    "version": 3
   },
   "file_extension": ".py",
   "mimetype": "text/x-python",
   "name": "python",
   "nbconvert_exporter": "python",
   "pygments_lexer": "ipython3",
   "version": "3.9.7"
  }
 },
 "nbformat": 4,
 "nbformat_minor": 5
}
