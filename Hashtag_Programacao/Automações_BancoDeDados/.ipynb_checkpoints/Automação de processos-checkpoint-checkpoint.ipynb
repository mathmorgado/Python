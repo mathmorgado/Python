{
 "cells": [
  {
   "cell_type": "markdown",
   "id": "007bf458",
   "metadata": {},
   "source": [
    "# Passo a Passo\n",
    "---\n",
    "## Passo 1: Importar as bibliotecas necessárias!"
   ]
  },
  {
   "cell_type": "code",
   "execution_count": null,
   "id": "a40b60fe",
   "metadata": {},
   "outputs": [],
   "source": [
    "import pyautogui as pa\n",
    "import pyperclip as pc\n",
    "import pandas as pd\n",
    "import time"
   ]
  },
  {
   "cell_type": "markdown",
   "id": "d13b42b3",
   "metadata": {},
   "source": [
    "## Passo 2: Abrir o Navegador"
   ]
  },
  {
   "cell_type": "code",
   "execution_count": null,
   "id": "b8e311b4",
   "metadata": {},
   "outputs": [],
   "source": [
    "pa.press(\"win\")\n",
    "pa.write(\"chrome\")\n",
    "pa.press(\"enter\")"
   ]
  },
  {
   "cell_type": "markdown",
   "id": "ba219100",
   "metadata": {},
   "source": [
    "## Passo 3: Entrar no site"
   ]
  },
  {
   "cell_type": "code",
   "execution_count": null,
   "id": "72d3c8e4",
   "metadata": {},
   "outputs": [],
   "source": [
    "pa.hotkey('ctrl', 't') # Nova aba\n",
    "pc.copy(\"https://drive.google.com/drive/folders/149xknr9JvrlEnhNWO49zPcw0PW5icxga\") # link do site\n",
    "pa.hotkey('ctrl', 'v')\n",
    "pa.press('enter')\n",
    "\n",
    "time.sleep(3)\n",
    "\n",
    "pa.click(x=400, y=288, clicks=2) # área de exportação"
   ]
  },
  {
   "cell_type": "markdown",
   "id": "5823f5dc",
   "metadata": {},
   "source": [
    "## Passo 4: Baixar planilha"
   ]
  },
  {
   "cell_type": "code",
   "execution_count": null,
   "id": "d55c13ab",
   "metadata": {},
   "outputs": [],
   "source": [
    "pa.click(x=400, y=288) # arquivo\n",
    "time.sleep(1.5)\n",
    "pa.click(x=1712, y=195, clicks=3) # tres pontinho\n",
    "time.sleep(1)\n",
    "pa.click(x=1545, y=586) # download\n",
    "\n",
    "time.sleep(4)\n",
    "\n",
    "pa.press('enter') # Confirmar download\n",
    "\n",
    "time.sleep(1)"
   ]
  },
  {
   "cell_type": "markdown",
   "id": "e6ce3fb9",
   "metadata": {},
   "source": [
    "## Passo 5: Fazer os cálculos"
   ]
  },
  {
   "cell_type": "code",
   "execution_count": null,
   "id": "50def850",
   "metadata": {},
   "outputs": [],
   "source": [
    "tabela = pd.read_excel(r'C:\\Users\\Matheus\\Downloads\\Vendas - Dez.xlsx')\n",
    "faturamento = tabela['Valor Final'].sum()\n",
    "qtde_prod = tabela['Quantidade'].sum()"
   ]
  },
  {
   "cell_type": "markdown",
   "id": "46809040",
   "metadata": {},
   "source": [
    "## Passo 6: Abrir o Email"
   ]
  },
  {
   "cell_type": "code",
   "execution_count": null,
   "id": "703c24b4",
   "metadata": {},
   "outputs": [],
   "source": [
    "pa.press(\"win\")\n",
    "pa.write(\"email\")\n",
    "pa.press(\"enter\")"
   ]
  },
  {
   "cell_type": "markdown",
   "id": "ce0ec78b",
   "metadata": {},
   "source": [
    "## Passo 7: Enviar o email"
   ]
  },
  {
   "cell_type": "code",
   "execution_count": null,
   "id": "9bc1e0cd",
   "metadata": {},
   "outputs": [],
   "source": [
    "pa.write('matheusrmorgado@hotmail.com')\n",
    "pa.press('tab')\n",
    "pa.press('tab')\n",
    "pa.press('tab')\n",
    "pc.copy('Relatório de Vendas')\n",
    "pa.hotkey('ctrl', 'v')\n",
    "time.sleep(0.25)\n",
    "pa.press('tab')\n",
    "time.sleep(0.25)\n",
    "texto = f\"\"\"\n",
    "Prezados, bom dia!\n",
    "\n",
    "O faturamento do mês de dezembro foi: R$ {faturamento:,.2f}\n",
    "A quantidade de produtos vendidos foi: R$ {qtde_prod:,}\n",
    "\n",
    "abs\n",
    "Matheus Morgado\n",
    "\"\"\"\n",
    "pc.copy(texto)\n",
    "pa.hotkey('ctrl', 'v')\n",
    "pa.hotkey('ctrl', 'enter')"
   ]
  },
  {
   "cell_type": "markdown",
   "id": "41500e77",
   "metadata": {},
   "source": [
    "---\n",
    "## Código final"
   ]
  },
  {
   "cell_type": "code",
   "execution_count": null,
   "id": "42fd7f66",
   "metadata": {},
   "outputs": [],
   "source": [
    "# Passo 1\n",
    "import pyautogui as pa\n",
    "import pyperclip as pc\n",
    "import pandas as pd\n",
    "import time\n",
    "\n",
    "time.sleep(10)\n",
    "\n",
    "# Passo 2\n",
    "pa.press(\"win\")\n",
    "pa.write(\"chrome\")\n",
    "pa.press(\"enter\")\n",
    "\n",
    "time.sleep(2.5)\n",
    "\n",
    "# Passo 3\n",
    "pa.hotkey('ctrl', 't') # Nova aba\n",
    "pc.copy(\"https://drive.google.com/drive/folders/149xknr9JvrlEnhNWO49zPcw0PW5icxga\") # link do site\n",
    "pa.hotkey('ctrl', 'v')\n",
    "pa.press('enter')\n",
    "\n",
    "time.sleep(3)\n",
    "\n",
    "pa.click(x=400, y=288, clicks=2) # área de exportação\n",
    "\n",
    "time.sleep(1.5)\n",
    "\n",
    "# Passo 4\n",
    "pa.click(x=400, y=288) # arquivo\n",
    "time.sleep(1.5)\n",
    "pa.click(x=1712, y=195, clicks=3) # tres pontinho\n",
    "time.sleep(1)\n",
    "pa.click(x=1545, y=586) # download\n",
    "\n",
    "time.sleep(4)\n",
    "\n",
    "pa.press('enter') # Confirmar download\n",
    "\n",
    "time.sleep(1)\n",
    "\n",
    "# Passo 5\n",
    "tabela = pd.read_excel(r'C:\\Users\\Matheus\\Downloads\\Vendas - Dez.xlsx')\n",
    "faturamento = tabela['Valor Final'].sum()\n",
    "qtde_prod = tabela['Quantidade'].sum()\n",
    "\n",
    "# Passo 6\n",
    "pa.press(\"win\")\n",
    "pa.write(\"email\")\n",
    "pa.press(\"enter\")\n",
    "\n",
    "time.sleep(3)\n",
    "\n",
    "pa.click(x=118, y=106) # Novo email\n",
    "\n",
    "time.sleep(0.5)\n",
    "\n",
    "# Passo 7\n",
    "pa.write('matheusrmorgado@hotmail.com')\n",
    "pa.press('tab')\n",
    "pa.press('tab')\n",
    "pa.press('tab')\n",
    "pc.copy('Relatório de Vendas')\n",
    "pa.hotkey('ctrl', 'v')\n",
    "time.sleep(0.25)\n",
    "pa.press('tab')\n",
    "time.sleep(0.25)\n",
    "texto = f\"\"\"\n",
    "Prezados, bom dia!\n",
    "\n",
    "O faturamento do mês de dezembro foi: R$ {faturamento:,.2f}\n",
    "A quantidade de produtos vendidos foi: R$ {qtde_prod:,}\n",
    "\n",
    "abs\n",
    "Matheus Morgado\n",
    "\"\"\"\n",
    "pc.copy(texto)\n",
    "pa.hotkey('ctrl', 'v')\n",
    "pa.hotkey('ctrl', 'enter')\n"
   ]
  },
  {
   "cell_type": "markdown",
   "id": "06e6cc07",
   "metadata": {},
   "source": [
    "### Pegar as coordenadas!"
   ]
  },
  {
   "cell_type": "code",
   "execution_count": null,
   "id": "fac6b38f",
   "metadata": {},
   "outputs": [],
   "source": [
    "import time\n",
    "\n",
    "time.sleep(5)\n",
    "pa.position()"
   ]
  }
 ],
 "metadata": {
  "kernelspec": {
   "display_name": "Python 3 (ipykernel)",
   "language": "python",
   "name": "python3"
  },
  "language_info": {
   "codemirror_mode": {
    "name": "ipython",
    "version": 3
   },
   "file_extension": ".py",
   "mimetype": "text/x-python",
   "name": "python",
   "nbconvert_exporter": "python",
   "pygments_lexer": "ipython3",
   "version": "3.9.13"
  }
 },
 "nbformat": 4,
 "nbformat_minor": 5
}
